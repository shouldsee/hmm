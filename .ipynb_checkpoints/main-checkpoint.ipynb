{
 "cells": [
  {
   "cell_type": "code",
   "execution_count": 312,
   "metadata": {},
   "outputs": [
    {
     "data": {
      "text/plain": [
       "array([0.96829649, 0.8328914 ])"
      ]
     },
     "execution_count": 312,
     "metadata": {},
     "output_type": "execute_result"
    }
   ],
   "source": [
    "import numpy as np\n",
    "import matplotlib.pyplot as plt\n",
    "%matplotlib inline\n",
    "np.random.uniform([.1,.2,])"
   ]
  },
  {
   "cell_type": "code",
   "execution_count": 347,
   "metadata": {},
   "outputs": [],
   "source": [
    "np.array([1,2]) is None\n",
    "del x"
   ]
  },
  {
   "cell_type": "code",
   "execution_count": 761,
   "metadata": {
    "scrolled": true
   },
   "outputs": [
    {
     "name": "stdout",
     "output_type": "stream",
     "text": [
      "[0.23 0.17 0.19 0.21 0.2 ]\n",
      "3\n",
      "[0 1 0 1 1 1 0 1 1 1 1 1 1 1 1 1 1 0 1 0 1 1 0 1 1 1 1 1 0 1 1 1 1 1 0 1 1\n",
      " 1 1 0 1 1 1 0 1 0 1 1 1 1]\n",
      "[[0.18181818 0.81818182]]\n",
      "Done\n"
     ]
    }
   ],
   "source": [
    "\n",
    "import collections\n",
    "def state2dist(x,state_space = None):\n",
    "    '''\n",
    "    x is a list of states to be converted into a distribution\n",
    "    '''\n",
    "    if state_space is None:\n",
    "        state_space = max(x)+1\n",
    "    if isinstance(x,np.ndarray):\n",
    "        x = x.tolist()\n",
    "    ct = collections.Counter(x)\n",
    "#    ct.update()\n",
    "    lst = [0]*state_space\n",
    "    for k,v in ct.items():\n",
    "        lst[k] = v\n",
    "    final_dist = np.array(lst,dtype='float')\n",
    "    final_dist = final_dist/final_dist.sum()\n",
    "#    print final_dist\n",
    "    return final_dist\n",
    "print state2dist(np.random.randint(0,5,100))\n",
    "\n",
    "\n",
    "\n",
    "def check_transition(mat,epsilon = 1E-10):\n",
    "    print mat\n",
    "    assert np.all(abs(mat.sum(axis = 1) - 1) < epsilon)\n",
    "    \n",
    "    \n",
    "\n",
    "def find_stationary(b):\n",
    "    w,v = np.linalg.eig(b.T)\n",
    "    lv = v.T\n",
    "    same_sign = (lv > 0).all(axis = 1) | (lv < 0).all(axis = 1)\n",
    "    stat_idx, = np.where( same_sign & (w > 0 ))\n",
    "    stat_vct = lv.take(stat_idx,axis = 0)\n",
    "    stat_vct = stat_vct / stat_vct.sum()\n",
    "    return stat_vct\n",
    "\n",
    "\n",
    "\n",
    "######## We start with a discrete version of hmm\n",
    "class Var_hmm(object):\n",
    "    def __init__(self, \n",
    "                 transition = np.array([[0.1,.9],[.2,.8]]),\n",
    "                 emission_mat = np.array([[.5, .4, .1, 0],[0, .1, .4, .5]]),\n",
    "                 internal_initial = np.array([[.8, .2]]),\n",
    "                 t = -1, \n",
    "                 internal_list = None,\n",
    "                 emission_list =['0','1','2','3']):\n",
    "        if internal_list is None:\n",
    "            if hasattr(internal_initial,'size'):\n",
    "                N = internal_initial.size\n",
    "            else:\n",
    "                N = len(internal_initial)\n",
    "            internal_list = list(range(N))\n",
    "        internal_initial = np.array(internal_initial)\n",
    "        self.transition = np.array(transition)\n",
    "        self.internal_initial = np.array(internal_initial)\n",
    "#        self.internal_dict = \n",
    "        self.internal_list = internal_list\n",
    "        self.emission_list = emission_list\n",
    "        assert len( internal_list ) == internal_initial.size\n",
    "        self.emission_mat = emission_mat\n",
    "        self.internal_space= len(internal_list)\n",
    "        self.emission_space = len(emission_list)\n",
    "        self.t = t\n",
    "        self.internal = None\n",
    "        self.emssion  = None\n",
    "#        self.sample()\n",
    "        pass    \n",
    "    def sample(self, as_idx = False,\n",
    "               debug = False,**kwargs):\n",
    "        if self.t == -1:\n",
    "#        if self.internal is None:\n",
    "            distrib = self.internal_initial\n",
    "        else:\n",
    "            distrib = self.transition[self.internal,:]\n",
    "        distrib = distrib.ravel()\n",
    "        if debug:\n",
    "            print distrib\n",
    "        \n",
    "        internal = np.random.choice( self.internal_space, size = 1, p = distrib)[0]\n",
    "        self.internal = internal\n",
    "        self.t += 1\n",
    "        if not as_idx:\n",
    "            internal = self.internal_list[internal]\n",
    "        return internal\n",
    "    def run_for(self, T = 10,debug = False,**kwargs):\n",
    "#        chain = [ self.sample() for i in range(T)]\n",
    " #       return chain \n",
    "  #      chain = [None]*T\n",
    "        chain = np.zeros([T],dtype=int)\n",
    "        \n",
    "        for i in range(T):\n",
    "            chain[i] = self.sample(debug = debug ,**kwargs)\n",
    "#            chain[i] += [h1.sample()]\n",
    "        return(chain)\n",
    "\n",
    "    def _emit(self, internal, as_idx = False):\n",
    "        distrib = self.emission_mat[ internal,:]\n",
    "        distrib = distrib.ravel()\n",
    "        emission = np.random.choice( self.emission_space, size = 1, p = distrib)[0]\n",
    "        if not as_idx:\n",
    "            emission = self.emission_list[emission]\n",
    "        return emission\n",
    "        \n",
    "    def emit(self, as_idx = False):\n",
    "        emission = self._emit(self.internal, as_idx = as_idx)\n",
    "        self.emission = emission\n",
    "        return self.emission\n",
    "    def bulk_emit(self,chain,as_idx = False):\n",
    "        echain = map(functools.partial(self._emit, as_idx = as_idx), \n",
    "                     chain)\n",
    "        return echain\n",
    "    \n",
    "    def find_stationary(self):\n",
    "        return find_stationary(self.transition)\n",
    "    def reset(self, t = -1 ):\n",
    "        self.t = t\n",
    "        \n",
    "def cross_entropy(y, t, epsilon = 1E-16):\n",
    "    return - np.sum( t * np.log(y+epsilon) - t * np.log(t+epsilon),axis = -1)\n",
    "\n",
    "def MAE(y,t):\n",
    "    return abs(y - t).sum(axis = -1)\n",
    "\n",
    "h1 = Var_hmm()\n",
    "ch = h1.run_for(50)\n",
    "#ch = h1.run_for(100,debug = 1)\n",
    "print h1.emit()\n",
    "print  ch \n",
    "print h1.find_stationary()\n",
    "\n",
    "print \"Done\""
   ]
  },
  {
   "cell_type": "code",
   "execution_count": 748,
   "metadata": {
    "scrolled": false
   },
   "outputs": [
    {
     "name": "stdout",
     "output_type": "stream",
     "text": [
      "[[9.12734720e-01 1.92589122e-02 2.28446010e-02 2.12131005e-02\n",
      "  2.34953277e-02 4.53339041e-04]\n",
      " [2.54997943e-04 9.08719800e-01 1.14308037e-02 5.13973160e-03\n",
      "  1.04982137e-02 6.39564530e-02]\n",
      " [1.48456116e-02 7.45937169e-04 9.23168380e-01 5.01036012e-03\n",
      "  4.07704439e-03 5.21526669e-02]\n",
      " [1.51498262e-02 8.31123904e-03 3.68751664e-02 9.23180168e-01\n",
      "  3.75798048e-03 1.27256194e-02]\n",
      " [3.32787648e-03 1.18662795e-02 3.94362637e-02 4.23071199e-02\n",
      "  8.72111199e-01 3.09512613e-02]\n",
      " [6.70408478e-02 6.87678019e-03 1.05605635e-02 1.16870402e-01\n",
      "  9.97311722e-02 6.98920234e-01]]\n",
      "[1. 1. 1. 1. 1. 1.]\n",
      "(100,)\n"
     ]
    },
    {
     "data": {
      "text/plain": [
       "<matplotlib.text.Text at 0x7f098fb2b750>"
      ]
     },
     "execution_count": 748,
     "metadata": {},
     "output_type": "execute_result"
    },
    {
     "data": {
      "image/png": "[encoded data removed]",
      "text/plain": [
       "<matplotlib.figure.Figure at 0x7f098fe97e10>"
      ]
     },
     "metadata": {},
     "output_type": "display_data"
    }
   ],
   "source": [
    "##### A test case that highlights the relaxation of a markov chain\n",
    "\n",
    "N = 6\n",
    "##### Init a random transition matrix\n",
    "trans_mat = np.random.exponential(size = (N,N)) \n",
    "#trans_mat = np.random.random(size = (N,N)) \n",
    "trans_mat += np.diag( np.diag(trans_mat) +  10*np.arange(N,0,-1)) ### strength the diagonal terms to extend mixing time\n",
    "trans_mat /= trans_mat.sum(axis = 1,keepdims=1)\n",
    "check_transition(trans_mat)\n",
    "print trans_mat.sum(axis=1)\n",
    "\n",
    "##### Use delta function as initial distribution\n",
    "ini = [1.]+[0.]*(N-1)\n",
    "\n",
    "N_chain = 200\n",
    "lst = [Var_hmm(transition=trans_mat,\n",
    "               internal_initial= ini,\n",
    "               internal_list=range(N)) for i in range(N_chain)]\n",
    "#assert 0 ==1\n",
    "def f(x):\n",
    "    #h1 = Var_hmm()\n",
    "    ch = x.run_for(100)\n",
    "    return ch\n",
    "chains = np.array(map(f,lst))\n",
    "\n",
    "\n",
    "h1 = lst[0]\n",
    "import functools\n",
    "f = functools.partial(state2dist,state_space = h1.internal_space)\n",
    "ds = np.vstack(map(f,chains.T))\n",
    "\n",
    "#loss = cross_entropy( ds, h1.find_stationary())\n",
    "loss = MAE( ds, h1.find_stationary())\n",
    "# loss = abs(loss).sum(axis = 1)\n",
    "print loss.shape\n",
    "# plt.plot(loss)\n",
    "fig = plt.figure(figsize= [10,8])\n",
    "ax = fig.add_subplot(211)\n",
    "ax.pcolormesh(ds.T)\n",
    "plt.ylabel('state_index')\n",
    "plt.title('Distribution of hidden states of %d chains over time' % N_chain)\n",
    "plt.subplot(212,sharex=ax)\n",
    "#fig = plt.figure(figsize= [10,4])\n",
    "plt.plot(loss)\n",
    "plt.xlim(0,100)\n",
    "plt.xlabel('time step')\n",
    "plt.ylabel('Mean absolute error (MAE) \\n measured from stationary distribution ')\n"
   ]
  },
  {
   "cell_type": "code",
   "execution_count": 626,
   "metadata": {},
   "outputs": [],
   "source": [
    "from scipy import sparse\n",
    "mat = sparse.dok_matrix()"
   ]
  },
  {
   "cell_type": "code",
   "execution_count": 646,
   "metadata": {},
   "outputs": [
    {
     "data": {
      "text/plain": [
       "[array([0, 1]),\n",
       " array([1, 1]),\n",
       " array([1, 1]),\n",
       " array([1, 1]),\n",
       " array([1, 1]),\n",
       " array([1, 1]),\n",
       " array([1, 1]),\n",
       " array([1, 1]),\n",
       " array([1, 1]),\n",
       " array([1, 1]),\n",
       " array([1, 1]),\n",
       " array([1, 0]),\n",
       " array([0, 1]),\n",
       " array([1, 1]),\n",
       " array([1, 1]),\n",
       " array([1, 1]),\n",
       " array([1, 1]),\n",
       " array([1, 1]),\n",
       " array([1, 1]),\n",
       " array([1])]"
      ]
     },
     "execution_count": 646,
     "metadata": {},
     "output_type": "execute_result"
    }
   ],
   "source": [
    "[chain[i:i+2] for i in range(len(chain)-1)]"
   ]
  },
  {
   "cell_type": "code",
   "execution_count": null,
   "metadata": {
    "collapsed": true
   },
   "outputs": [],
   "source": []
  },
  {
   "cell_type": "code",
   "execution_count": 713,
   "metadata": {},
   "outputs": [
    {
     "name": "stdout",
     "output_type": "stream",
     "text": [
      "[[0. 1. 1. 0. 1. 1. 1. 1. 1. 1. 1. 0. 1. 1. 0. 1. 1. 1. 1. 0.]]\n"
     ]
    }
   ],
   "source": [
    "\n",
    "chain = read_chain(text = buf)\n",
    "print chain\n"
   ]
  },
  {
   "cell_type": "code",
   "execution_count": 728,
   "metadata": {},
   "outputs": [
    {
     "name": "stdout",
     "output_type": "stream",
     "text": [
      "Truncating chain to 20 elements: [0, 1, 1, 0, 1, 1, 1, 1, 1, 1, 1, 0, 1, 1, 0, 1, 1, 1, 1, 0]\n",
      "MLE for transition matrix is:\n",
      "[[0.         1.        ]\n",
      " [0.26666667 0.73333333]]\n"
     ]
    }
   ],
   "source": [
    "####### MLE for single\n",
    "\n",
    "def read_chain(fname=None,text = None,dtype = 'float'):\n",
    "    if text is None:\n",
    "        text = open(fname,'r').read()\n",
    "    buf = []\n",
    "    for line in text.splitlines():\n",
    "        lst = line.split(',')\n",
    "#        if len(lst)<=1:\n",
    "        lst = [ float(x.strip()) for x in lst if x]\n",
    "        if lst:\n",
    "            buf.append( lst )\n",
    "    c = np.array(buf,dtype = dtype)\n",
    "    return  c\n",
    "\n",
    "buf = '''\n",
    "0, 1, 1, 0, 1, 1, 1, 1, 1, 1, 1, 0, 1, 1, 0, 1, 1, 1, 1, 0\n",
    "'''\n",
    "chain = read_chain(text = buf,dtype = 'int')[0]\n",
    "\n",
    "def mle_tmat_internalChain(chain, Hn = None,epsilon = 0):\n",
    "    '''\n",
    "    epsilon: an adjustable pesudo count\n",
    "    '''\n",
    "    Hn = max(chain) + 1\n",
    "    trans = collections.Counter([tuple(chain[i:i+2]) for i in range(len(chain)-1)])\n",
    "\n",
    "    mat = np.zeros((Hn,Hn))\n",
    "    for k,v in trans.iteritems():\n",
    "        mat[k]=float(v) + epsilon\n",
    "    mat /= mat.sum(axis = 1,keepdims = 1)    \n",
    "    return mat\n",
    "\n",
    "chain = list(chain[:20])\n",
    "print \"Truncating chain to 20 elements:\",chain \n",
    "print 'MLE for transition matrix is:\\n',mle_tmat_internalChain(chain)\n"
   ]
  },
  {
   "cell_type": "code",
   "execution_count": 786,
   "metadata": {},
   "outputs": [
    {
     "data": {
      "text/plain": [
       "<matplotlib.text.Text at 0x7f098f540350>"
      ]
     },
     "execution_count": 786,
     "metadata": {},
     "output_type": "execute_result"
    },
    {
     "data": {
      "image/png": "[encoded data removed]",
      "text/plain": [
       "<matplotlib.figure.Figure at 0x7f098f57b6d0>"
      ]
     },
     "metadata": {},
     "output_type": "display_data"
    }
   ],
   "source": [
    "#### Question 3\n",
    "\n",
    "h1 = Var_hmm(\n",
    "    internal_list = [0,1],\n",
    "    emission_list = [ (x) for x in [1,2,3,4,5]],\n",
    "    transition = np.array([[0.8, 0.2],[0.1,0.9]]),\n",
    "    emission_mat = np.array([[0.2, 0.5, 0.2, 0.1, 0],[ 0, 0.1, 0.4 ,0.4 , 0.1]])\n",
    ")\n",
    "n = 115\n",
    "chain = h1.run_for(n,as_idx = 1)\n",
    "emission_chain = h1.bulk_emit(chain)\n",
    "\n",
    "fig = plt.figure(figsize= [12,8])\n",
    "plt.subplot(211)\n",
    "plt.plot(chain,label = 'hidden_state')\n",
    "plt.plot(emission_chain, label ='emission_state')\n",
    "plt.legend(bbox_to_anchor=(1.19, 1.00))\n",
    "plt.xlabel('time step')\n",
    "#h1.bulk_emit([1,1,0,0,0],as_idx = 1)\n",
    "\n"
   ]
  },
  {
   "cell_type": "code",
   "execution_count": null,
   "metadata": {
    "collapsed": true
   },
   "outputs": [],
   "source": []
  },
  {
   "cell_type": "code",
   "execution_count": 554,
   "metadata": {},
   "outputs": [
    {
     "name": "stdout",
     "output_type": "stream",
     "text": [
      "(1, 3) (3, 3)\n",
      "(1, 3)\n",
      "[[24 30 36]]\n",
      "[[1 2 3]]\n",
      "[[0 1 2]\n",
      " [3 4 5]\n",
      " [6 7 8]]\n",
      "[0 1 2]\n",
      "[ 9 12 15]\n"
     ]
    },
    {
     "data": {
      "text/plain": [
       "0"
      ]
     },
     "execution_count": 554,
     "metadata": {},
     "output_type": "execute_result"
    }
   ],
   "source": [
    "### Playground for numpy array\n",
    "\n",
    "a = np.array([[1,2,3]])\n",
    "#a = np.array([[1,2,3]]).T\n",
    "b = np.array(range(9)).reshape([3,3])\n",
    "print a.shape, b.shape\n",
    "print (a.dot(b)).shape\n",
    "c = a.dot(b)\n",
    "print c\n",
    "print a\n",
    "print b\n",
    "print( b[0,:])\n",
    "print b.sum(axis = 0)\n",
    "b.take(0)"
   ]
  }
 ],
 "metadata": {
  "kernelspec": {
   "display_name": "hmm",
   "language": "python",
   "name": "hmm"
  },
  "language_info": {
   "codemirror_mode": {
    "name": "ipython",
    "version": 2
   },
   "file_extension": ".py",
   "mimetype": "text/x-python",
   "name": "python",
   "nbconvert_exporter": "python",
   "pygments_lexer": "ipython2",
   "version": "2.7.12"
  }
 },
 "nbformat": 4,
 "nbformat_minor": 2
}
