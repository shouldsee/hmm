{
 "cells": [
  {
   "cell_type": "markdown",
   "metadata": {},
   "source": [
    "## Discrete Mapping, Ising model and dissipative structures"
   ]
  },
  {
   "cell_type": "markdown",
   "metadata": {},
   "source": [
    "The reducibility of a markov chain is intimately related to the notion of attractors in a discrete mapping (DM). Intuitively, a discrete attractor qualifies as a communicating class where all states are reachable from any other states. See this [MathStack QA](https://math.stackexchange.com/questions/1183298/can-a-reducible-markov-chain-have-an-unique-stationary-distribution?rq=1). Moreover, this attractor is periodic by nature.\n",
    "\n",
    "On the other hand, the arguably most important theorem for markov chain, the fundemental theorem of markov chains (FTMC), requires its subject to be irreducible and aperiodic, hence in order to apply the theorem, some modification of the raw attractor will be required. In discrete dynamics, it's often to have multiple attractors that are mutually exclusive (in the sense that any trajcetory cannot finish in multiple attractors). This means, the interplay between these attractors will not be captured by FTMC. \n",
    "\n",
    "It is tempting to introduce a perturbation parameter that bridges the two regimes: the FTMC one with the DM one. Traditionally, studies of reducible markov chains include absorbing time, absorbing probability and so on. \n",
    "\n",
    "In fact, such parameter may already exist in the case of 2D Ising models, that is, the inverse temperature ($\\beta$). At high $\\beta$, spontaneous magnetization (density of a CA soup) becomes non-zero, and one may imagine the homogeneous configs (all-1/all-0) becomes the two dominating communicating class separated by a energy barrier. In contrast, at low $\\beta$, the separation of such states dissappear and a universal communicating class is recovered. In the limit of $\\beta \\rightarrow +\\infty$, only the lowest energy states are permitted, each with probability 0.5. In the case of nonzero temperature, the communication class expands fairly rapidly, and it'd be preferred to have some quantification of these class sizes... At critical temperature, something usual happens to the topology of the state space so that the communication classes disappearred in total. \n",
    "\n",
    "Note here the communication class is only weakly defined to be some set of states that cluster closely and enjoy dissipation-free transversal. One of the possibile approach is to compare the within-basin energy difference to the between-basin energy difference. In other words, one can study the significance of the partition of the state space into the two proposed groups. Intuitively, the diatomic configuration should represent a more ordered dynamics permitting complex behaviour, though people has previously argued the criticality itself is an important indicator of information conductancy. Anyway, it'd be interesting to characterise the average absorbing time and average absorbing probability in the 2D ising.\n",
    "\n",
    "It is important to note that 2D Ising is a specical case of Dynamic Bayesian Network depending on the implementation. The aim of MCMC is certainly to take an unbiased sample from the system but the mere existence of transient behaviour means random sampling may only poorly cover the possible states. If the attractor picture can be formalised, it might guide an alternative algorithm in traversing the phase space. In other words, the topology of state state matters because it greatly affect the mixing time, or the convergence time. Think, for example, if one is to measure the spontaneous magnetisation. Then under critical temperature, the state may be trapped in one of the attractor and struggles to jump to the other. Hence it would takes a super-long period to reach ergodicity, where time-averag is the same as config-average, whereas above critical temperature, the convergence may be lot faster. (To Be Confirmed)\n",
    "\n",
    "The ultimate objective, is to develop a sampler that explicitly deals with the existence of such structure and achieve efficient sampling regardless of the underlying topology. One way of doing so is to explicityly approximate the attractor. For example, renormalisation techniques amounts to finding the most efficient basis to express the energy function, aka finding the equivalence class of any given configuration, which should make it easy to sample/sum.\n",
    "\n",
    "In fact, such attempts already exist like [basin-hopping](https://www.quora.com/Mathematical-Optimization-What-is-the-basin-hopping-algorithm), albeit as a global optimisation technique (hence MAP rather than Bayesian). \n"
   ]
  },
  {
   "cell_type": "markdown",
   "metadata": {},
   "source": [
    "The measure-theory/dynamical-system analogous of a Garden-of-Eden state is called [wandering set](https://en.wikipedia.org/wiki/Wandering_set). In DM, GOE is incompatible with reversibility. It's unclear whether a system with a non-wandering set is bound to be irrevesible (though my guess is yes). An easiest example would be the heat diffusion where $\\frac{\\delta u}{\\delta t} = \\alpha \\nabla ^2 u$. It is easy to check the universal attractor specifies that $\\nabla ^2 u=0$, hence the steady state $u^*=\\frac{\\int u}{\\int 1}$, which can be regarded as the single communication class of the system. Any states outside of this class will be transient.\n",
    "\n",
    "(But it appears evolution of order parameter may be a better subject to study, as specified by [Ginzburg-Landau](https://rajeshrinet.github.io/blog/2014/ising-model/) equation)"
   ]
  },
  {
   "cell_type": "code",
   "execution_count": null,
   "metadata": {
    "collapsed": true
   },
   "outputs": [],
   "source": [
    "\n",
    "# if __name__=='__main__':\n",
    "#     print '\\nTesting MLE_viterbi(self)\\n'\n",
    "#     h1 = util.Var_hmm.read_model(fname ='Q3.hmm')\n",
    "#     echain = util.read_chain('Q3.echain',dtype=int)[0]\n",
    "#     mle_seq = h1.MLE_viterbi(echain, debug =1)\n"
   ]
  }
 ],
 "metadata": {
  "kernelspec": {
   "display_name": "hmm",
   "language": "python",
   "name": "hmm"
  },
  "language_info": {
   "codemirror_mode": {
    "name": "ipython",
    "version": 2
   },
   "file_extension": ".py",
   "mimetype": "text/x-python",
   "name": "python",
   "nbconvert_exporter": "python",
   "pygments_lexer": "ipython2",
   "version": "2.7.12"
  }
 },
 "nbformat": 4,
 "nbformat_minor": 2
}
